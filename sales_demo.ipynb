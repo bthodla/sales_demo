{
  "nbformat": 4,
  "nbformat_minor": 0,
  "metadata": {
    "colab": {
      "name": "sales_demo.ipynb",
      "version": "0.3.2",
      "provenance": [],
      "collapsed_sections": [],
      "include_colab_link": true
    },
    "kernelspec": {
      "name": "python3",
      "display_name": "Python 3"
    }
  },
  "cells": [
    {
      "cell_type": "markdown",
      "metadata": {
        "id": "view-in-github",
        "colab_type": "text"
      },
      "source": [
        "<a href=\"https://colab.research.google.com/github/bthodla/sales_demo/blob/dev/sales_demo.ipynb\" target=\"_parent\"><img src=\"https://colab.research.google.com/assets/colab-badge.svg\" alt=\"Open In Colab\"/></a>"
      ]
    },
    {
      "cell_type": "code",
      "metadata": {
        "id": "tiOifPsYbbSw",
        "colab_type": "code",
        "colab": {}
      },
      "source": [
        "# import all packages and set plots to be embedded inline\n",
        "import numpy as np\n",
        "import pandas as pd\n",
        "import matplotlib.pyplot as plt\n",
        "import seaborn as sb\n",
        "from google.colab import drive\n",
        "import os, sys\n",
        "from dateutil import parser\n",
        "import datetime\n",
        "import re\n",
        "\n",
        "from bokeh.io import show\n",
        "from bokeh.layouts import column\n",
        "from bokeh.models import ColumnDataSource, RangeTool\n",
        "from bokeh.plotting import figure, output_file, output_notebook, show\n",
        "\n",
        "%matplotlib inline\n",
        "\n",
        "# To suppress numeric values from being returned in exponential format\n",
        "pd.options.display.float_format = '{:20,.2f}'.format\n",
        "\n",
        "plt.style.use('seaborn-whitegrid')\n",
        "\n",
        "# suppress warnings from final output\n",
        "import warnings\n",
        "warnings.simplefilter(\"ignore\")\n"
      ],
      "execution_count": 0,
      "outputs": []
    },
    {
      "cell_type": "code",
      "metadata": {
        "id": "QDAviEfjl9RS",
        "colab_type": "code",
        "colab": {}
      },
      "source": [
        "# !pip install bokeh --upgrade"
      ],
      "execution_count": 0,
      "outputs": []
    },
    {
      "cell_type": "code",
      "metadata": {
        "id": "m1TkWL_pP5Im",
        "colab_type": "code",
        "outputId": "c94e3a40-4888-4005-bd5e-89c636befa5f",
        "colab": {
          "base_uri": "https://localhost:8080/",
          "height": 122
        }
      },
      "source": [
        "drive.mount('/content/gdrive')\n",
        "data_folder = '/content/gdrive/My Drive/Colab Notebooks/sales_demo/'\n"
      ],
      "execution_count": 2,
      "outputs": [
        {
          "output_type": "stream",
          "text": [
            "Go to this URL in a browser: https://accounts.google.com/o/oauth2/auth?client_id=947318989803-6bn6qk8qdgf4n4g3pfee6491hc0brc4i.apps.googleusercontent.com&redirect_uri=urn%3Aietf%3Awg%3Aoauth%3A2.0%3Aoob&scope=email%20https%3A%2F%2Fwww.googleapis.com%2Fauth%2Fdocs.test%20https%3A%2F%2Fwww.googleapis.com%2Fauth%2Fdrive%20https%3A%2F%2Fwww.googleapis.com%2Fauth%2Fdrive.photos.readonly%20https%3A%2F%2Fwww.googleapis.com%2Fauth%2Fpeopleapi.readonly&response_type=code\n",
            "\n",
            "Enter your authorization code:\n",
            "··········\n",
            "Mounted at /content/gdrive\n"
          ],
          "name": "stdout"
        }
      ]
    },
    {
      "cell_type": "code",
      "metadata": {
        "id": "ZNwIrXBubwbk",
        "colab_type": "code",
        "colab": {}
      },
      "source": [
        "customer_df = pd.read_parquet(data_folder + 'customer.parquet', engine='pyarrow')\n",
        "contact_df = pd.read_parquet(data_folder + 'contact.parquet', engine='pyarrow')\n",
        "product_df = pd.read_parquet(data_folder + 'product.parquet', engine='pyarrow')\n",
        "state_df = pd.read_parquet(data_folder + 'state.parquet', engine='pyarrow')\n",
        "touch_df = pd.read_parquet(data_folder + 'touch.parquet', engine='pyarrow')\n",
        "txn_df = pd.read_parquet(data_folder + 'txn.parquet', engine='pyarrow')\n"
      ],
      "execution_count": 0,
      "outputs": []
    },
    {
      "cell_type": "code",
      "metadata": {
        "id": "_PwrNQYfKF9X",
        "colab_type": "code",
        "colab": {}
      },
      "source": [
        "# Extract the year and month from \"txn_df\" and \"touch_df\" to seprate columns\n",
        "touch_df['txn_year_month'] = touch_df['txn_date'].map(lambda x: x.to_period('M'))\n",
        "txn_df['txn_year_month'] = txn_df['txn_date'].map(lambda x: x.to_period('M'))\n"
      ],
      "execution_count": 0,
      "outputs": []
    },
    {
      "cell_type": "code",
      "metadata": {
        "id": "k7KSLgWAKgMM",
        "colab_type": "code",
        "outputId": "d89b75bb-54dc-40b3-a89f-1444f676888e",
        "colab": {
          "base_uri": "https://localhost:8080/",
          "height": 359
        }
      },
      "source": [
        "txn_df.sample(10)\n"
      ],
      "execution_count": 12,
      "outputs": [
        {
          "output_type": "execute_result",
          "data": {
            "text/html": [
              "<div>\n",
              "<style scoped>\n",
              "    .dataframe tbody tr th:only-of-type {\n",
              "        vertical-align: middle;\n",
              "    }\n",
              "\n",
              "    .dataframe tbody tr th {\n",
              "        vertical-align: top;\n",
              "    }\n",
              "\n",
              "    .dataframe thead th {\n",
              "        text-align: right;\n",
              "    }\n",
              "</style>\n",
              "<table border=\"1\" class=\"dataframe\">\n",
              "  <thead>\n",
              "    <tr style=\"text-align: right;\">\n",
              "      <th></th>\n",
              "      <th>contact_id</th>\n",
              "      <th>txn_id</th>\n",
              "      <th>txn_date</th>\n",
              "      <th>product_id</th>\n",
              "      <th>sales</th>\n",
              "      <th>redemptions</th>\n",
              "      <th>txn_year_month</th>\n",
              "    </tr>\n",
              "  </thead>\n",
              "  <tbody>\n",
              "    <tr>\n",
              "      <th>44427</th>\n",
              "      <td>542022975</td>\n",
              "      <td>422952925</td>\n",
              "      <td>2015-01-26</td>\n",
              "      <td>PCRIX</td>\n",
              "      <td>0.00</td>\n",
              "      <td>-8,702.40</td>\n",
              "      <td>2015-01</td>\n",
              "    </tr>\n",
              "    <tr>\n",
              "      <th>60481</th>\n",
              "      <td>424317213</td>\n",
              "      <td>422974637</td>\n",
              "      <td>2015-08-19</td>\n",
              "      <td>TEDIX</td>\n",
              "      <td>3,397.35</td>\n",
              "      <td>0.00</td>\n",
              "      <td>2015-08</td>\n",
              "    </tr>\n",
              "    <tr>\n",
              "      <th>69650</th>\n",
              "      <td>208309599</td>\n",
              "      <td>422983806</td>\n",
              "      <td>2015-12-21</td>\n",
              "      <td>FDFFX</td>\n",
              "      <td>2,046.62</td>\n",
              "      <td>0.00</td>\n",
              "      <td>2015-12</td>\n",
              "    </tr>\n",
              "    <tr>\n",
              "      <th>68089</th>\n",
              "      <td>403217176</td>\n",
              "      <td>422982245</td>\n",
              "      <td>2015-11-16</td>\n",
              "      <td>PIREX</td>\n",
              "      <td>2,586.04</td>\n",
              "      <td>0.00</td>\n",
              "      <td>2015-11</td>\n",
              "    </tr>\n",
              "    <tr>\n",
              "      <th>6454</th>\n",
              "      <td>436867170</td>\n",
              "      <td>422914952</td>\n",
              "      <td>2015-05-01</td>\n",
              "      <td>FCISX</td>\n",
              "      <td>8,419.29</td>\n",
              "      <td>0.00</td>\n",
              "      <td>2015-05</td>\n",
              "    </tr>\n",
              "    <tr>\n",
              "      <th>69443</th>\n",
              "      <td>243999332</td>\n",
              "      <td>422983599</td>\n",
              "      <td>2015-08-30</td>\n",
              "      <td>AIVSX</td>\n",
              "      <td>3,300.64</td>\n",
              "      <td>0.00</td>\n",
              "      <td>2015-08</td>\n",
              "    </tr>\n",
              "    <tr>\n",
              "      <th>59460</th>\n",
              "      <td>516634093</td>\n",
              "      <td>422973616</td>\n",
              "      <td>2015-05-11</td>\n",
              "      <td>DLTNX</td>\n",
              "      <td>5,655.00</td>\n",
              "      <td>0.00</td>\n",
              "      <td>2015-05</td>\n",
              "    </tr>\n",
              "    <tr>\n",
              "      <th>42616</th>\n",
              "      <td>280418478</td>\n",
              "      <td>422951114</td>\n",
              "      <td>2015-11-24</td>\n",
              "      <td>MDISX</td>\n",
              "      <td>0.00</td>\n",
              "      <td>-9,707.16</td>\n",
              "      <td>2015-11</td>\n",
              "    </tr>\n",
              "    <tr>\n",
              "      <th>13536</th>\n",
              "      <td>328648413</td>\n",
              "      <td>422922034</td>\n",
              "      <td>2015-07-07</td>\n",
              "      <td>VIVIX</td>\n",
              "      <td>6,048.44</td>\n",
              "      <td>0.00</td>\n",
              "      <td>2015-07</td>\n",
              "    </tr>\n",
              "    <tr>\n",
              "      <th>85610</th>\n",
              "      <td>378981070</td>\n",
              "      <td>422999766</td>\n",
              "      <td>2015-10-10</td>\n",
              "      <td>VSIAX</td>\n",
              "      <td>0.00</td>\n",
              "      <td>-3,684.85</td>\n",
              "      <td>2015-10</td>\n",
              "    </tr>\n",
              "  </tbody>\n",
              "</table>\n",
              "</div>"
            ],
            "text/plain": [
              "       contact_id     txn_id  ...          redemptions txn_year_month\n",
              "44427   542022975  422952925  ...            -8,702.40        2015-01\n",
              "60481   424317213  422974637  ...                 0.00        2015-08\n",
              "69650   208309599  422983806  ...                 0.00        2015-12\n",
              "68089   403217176  422982245  ...                 0.00        2015-11\n",
              "6454    436867170  422914952  ...                 0.00        2015-05\n",
              "69443   243999332  422983599  ...                 0.00        2015-08\n",
              "59460   516634093  422973616  ...                 0.00        2015-05\n",
              "42616   280418478  422951114  ...            -9,707.16        2015-11\n",
              "13536   328648413  422922034  ...                 0.00        2015-07\n",
              "85610   378981070  422999766  ...            -3,684.85        2015-10\n",
              "\n",
              "[10 rows x 7 columns]"
            ]
          },
          "metadata": {
            "tags": []
          },
          "execution_count": 12
        }
      ]
    },
    {
      "cell_type": "code",
      "metadata": {
        "id": "cLGoEiBivjXr",
        "colab_type": "code",
        "outputId": "b23d6a3a-88bd-4e5b-c0b5-e86f038fcdc5",
        "colab": {
          "base_uri": "https://localhost:8080/",
          "height": 153
        }
      },
      "source": [
        "customer_df.info()\n",
        "\n",
        "\"\"\"\n",
        "category - Qualitative Categorical\n",
        "\"\"\""
      ],
      "execution_count": 6,
      "outputs": [
        {
          "output_type": "stream",
          "text": [
            "<class 'pandas.core.frame.DataFrame'>\n",
            "RangeIndex: 3876 entries, 0 to 3875\n",
            "Data columns (total 3 columns):\n",
            "customer_id      3876 non-null int64\n",
            "customer_name    3876 non-null object\n",
            "category         3876 non-null object\n",
            "dtypes: int64(1), object(2)\n",
            "memory usage: 90.9+ KB\n"
          ],
          "name": "stdout"
        }
      ]
    },
    {
      "cell_type": "code",
      "metadata": {
        "id": "bIjtswlbhO3Y",
        "colab_type": "code",
        "outputId": "f9108e46-e60c-4965-bd96-5e53da1532a9",
        "colab": {
          "base_uri": "https://localhost:8080/",
          "height": 306
        }
      },
      "source": [
        "contact_df.info()\n",
        "\n",
        "\"\"\"\n",
        "city - Qualitative Nominal\n",
        "state - Qualitative Nominal\n",
        "zip - Qualitative Nominal\n",
        "status - Qualitative Nominal\n",
        "opportunity - Quantitative Continuous\n",
        "\"\"\""
      ],
      "execution_count": 7,
      "outputs": [
        {
          "output_type": "stream",
          "text": [
            "<class 'pandas.core.frame.DataFrame'>\n",
            "RangeIndex: 210002 entries, 0 to 210001\n",
            "Data columns (total 12 columns):\n",
            "contact_id     210002 non-null int64\n",
            "first_name     210002 non-null object\n",
            "last_name      210002 non-null object\n",
            "city           210002 non-null object\n",
            "state_code     210002 non-null object\n",
            "zip            210002 non-null object\n",
            "country        210002 non-null object\n",
            "latitude       210002 non-null float64\n",
            "longitude      210002 non-null float64\n",
            "customer_id    210002 non-null int64\n",
            "status         210002 non-null object\n",
            "opportunity    210002 non-null int64\n",
            "dtypes: float64(2), int64(3), object(7)\n",
            "memory usage: 19.2+ MB\n"
          ],
          "name": "stdout"
        }
      ]
    },
    {
      "cell_type": "code",
      "metadata": {
        "id": "iIf2IY459Wqx",
        "colab_type": "code",
        "outputId": "b11b75b8-bd80-445b-a2ba-7cffe5bb6e80",
        "colab": {
          "base_uri": "https://localhost:8080/",
          "height": 204
        }
      },
      "source": [
        "product_df.info()\n",
        "\n",
        "\"\"\"\n",
        "tna - Quantitative Continuous\n",
        "ms_rating - Qualitative Ordinal\n",
        "exp_ratio - Quantitative Continuous\n",
        "market_cap - Quantitative Discrete\n",
        "\"\"\""
      ],
      "execution_count": 8,
      "outputs": [
        {
          "output_type": "stream",
          "text": [
            "<class 'pandas.core.frame.DataFrame'>\n",
            "RangeIndex: 426 entries, 0 to 425\n",
            "Data columns (total 6 columns):\n",
            "product_id      426 non-null object\n",
            "product_name    426 non-null object\n",
            "tna             426 non-null float64\n",
            "ms_rating       426 non-null int64\n",
            "exp_ratio       426 non-null float64\n",
            "market_cap      426 non-null object\n",
            "dtypes: float64(2), int64(1), object(3)\n",
            "memory usage: 20.0+ KB\n"
          ],
          "name": "stdout"
        }
      ]
    },
    {
      "cell_type": "code",
      "metadata": {
        "id": "UuO1whOF9Z3N",
        "colab_type": "code",
        "outputId": "aee10603-24cd-4378-f788-615f7e07b09a",
        "colab": {
          "base_uri": "https://localhost:8080/",
          "height": 153
        }
      },
      "source": [
        "state_df.info()\n",
        "\n",
        "\"\"\"\n",
        "state - Qualitative Nominal\n",
        "region - Qualitative Nominal\n",
        "\"\"\""
      ],
      "execution_count": 9,
      "outputs": [
        {
          "output_type": "stream",
          "text": [
            "<class 'pandas.core.frame.DataFrame'>\n",
            "RangeIndex: 50 entries, 0 to 49\n",
            "Data columns (total 3 columns):\n",
            "state_code    50 non-null object\n",
            "state         50 non-null object\n",
            "region        50 non-null object\n",
            "dtypes: object(3)\n",
            "memory usage: 1.2+ KB\n"
          ],
          "name": "stdout"
        }
      ]
    },
    {
      "cell_type": "code",
      "metadata": {
        "id": "c24CsvU29dPk",
        "colab_type": "code",
        "outputId": "fb32c172-5e97-4b3e-ef45-2a7dcb14b3cd",
        "colab": {
          "base_uri": "https://localhost:8080/",
          "height": 204
        }
      },
      "source": [
        "touch_df.info()\n",
        "\n",
        "\"\"\"\n",
        "txn_date - Quantitative Interval\n",
        "touch_type - Qualitative Nominal\n",
        "txn_year_month - Quantitative Interval\n",
        "\"\"\""
      ],
      "execution_count": 10,
      "outputs": [
        {
          "output_type": "stream",
          "text": [
            "<class 'pandas.core.frame.DataFrame'>\n",
            "RangeIndex: 16974 entries, 0 to 16973\n",
            "Data columns (total 6 columns):\n",
            "contact_id        16974 non-null int64\n",
            "txn_id            16974 non-null int64\n",
            "txn_date          16974 non-null datetime64[ns]\n",
            "product_id        16974 non-null object\n",
            "touch_type        16974 non-null object\n",
            "txn_year_month    16974 non-null period[M]\n",
            "dtypes: datetime64[ns](1), int64(2), object(2), period[M](1)\n",
            "memory usage: 795.7+ KB\n"
          ],
          "name": "stdout"
        }
      ]
    },
    {
      "cell_type": "code",
      "metadata": {
        "id": "PYr3Fmc19gDu",
        "colab_type": "code",
        "outputId": "7810f661-8ee6-493b-9241-5b0fc3099c2b",
        "colab": {
          "base_uri": "https://localhost:8080/",
          "height": 221
        }
      },
      "source": [
        "txn_df.info()\n",
        "\n",
        "\"\"\"\n",
        "txn_date - Quantitative Interval\n",
        "sales - Quantitative Continuous\n",
        "redemptions - Quantitative Continuous\n",
        "txn_year_month - Quantitative Interval\n",
        "\"\"\""
      ],
      "execution_count": 11,
      "outputs": [
        {
          "output_type": "stream",
          "text": [
            "<class 'pandas.core.frame.DataFrame'>\n",
            "RangeIndex: 90010 entries, 0 to 90009\n",
            "Data columns (total 7 columns):\n",
            "contact_id        90010 non-null int64\n",
            "txn_id            90010 non-null int64\n",
            "txn_date          90010 non-null datetime64[ns]\n",
            "product_id        90010 non-null object\n",
            "sales             90010 non-null float64\n",
            "redemptions       90010 non-null float64\n",
            "txn_year_month    90010 non-null period[M]\n",
            "dtypes: datetime64[ns](1), float64(2), int64(2), object(1), period[M](1)\n",
            "memory usage: 4.8+ MB\n"
          ],
          "name": "stdout"
        }
      ]
    },
    {
      "cell_type": "code",
      "metadata": {
        "id": "FdxzPCQaMVhw",
        "colab_type": "code",
        "outputId": "122c3c4f-472b-46b5-a132-be0aa7d190e4",
        "colab": {
          "base_uri": "https://localhost:8080/",
          "height": 153
        }
      },
      "source": [
        "txn_ym_df = txn_df.groupby('txn_year_month')[['sales', 'redemptions']].sum().reset_index()\n",
        "txn_ym_df.info()"
      ],
      "execution_count": 0,
      "outputs": [
        {
          "output_type": "stream",
          "text": [
            "<class 'pandas.core.frame.DataFrame'>\n",
            "RangeIndex: 15 entries, 0 to 14\n",
            "Data columns (total 3 columns):\n",
            "txn_year_month    15 non-null period[M]\n",
            "sales             15 non-null float64\n",
            "redemptions       15 non-null float64\n",
            "dtypes: float64(2), period[M](1)\n",
            "memory usage: 440.0 bytes\n"
          ],
          "name": "stdout"
        }
      ]
    },
    {
      "cell_type": "code",
      "metadata": {
        "id": "CkkMmL9xI3th",
        "colab_type": "code",
        "outputId": "f9975451-9cfe-4b9b-f799-859b82acfc57",
        "colab": {
          "base_uri": "https://localhost:8080/",
          "height": 347
        }
      },
      "source": [
        "# Sales and Redemptions trends over time\n",
        "# output to static HTML file\n",
        "# output_file(\"lines.html\")\n",
        "\n",
        "output_notebook()\n",
        "\n",
        "# create a new plot with a title and axis labels\n",
        "p = figure(plot_height=300, plot_width=800, tools=\"xpan\", toolbar_location=None,\n",
        "           x_axis_type=\"datetime\", x_axis_location=\"below\",\n",
        "           background_fill_color=\"#efefef\")\n",
        "\n",
        "p.vline_stack(['sales', 'redemptions'], x='txn_year_month', source=txn_ym_df, color = ['blue', 'red'])\n",
        "p.yaxis.axis_label = 'Amount'\n",
        "\n",
        "\"\"\"\n",
        "select = figure(title=\"Drag the middle and edges of the selection box to change the range above\",\n",
        "                plot_height=130, plot_width=800, y_range=p.y_range,\n",
        "                x_axis_type=\"datetime\", y_axis_type=None,\n",
        "                tools=\"\", toolbar_location=None, background_fill_color=\"#efefef\")\n",
        "\n",
        "select.line('txn_year_month', 'sales', source=txn_ym_df)\n",
        "select.ygrid.grid_line_color = None\n",
        "\n",
        "\"\"\"\n",
        "\n",
        "# show(column(p, select))\n",
        "show(column(p))"
      ],
      "execution_count": 0,
      "outputs": [
        {
          "output_type": "display_data",
          "data": {
            "text/html": [
              "\n",
              "    <div class=\"bk-root\">\n",
              "        <a href=\"https://bokeh.pydata.org\" target=\"_blank\" class=\"bk-logo bk-logo-small bk-logo-notebook\"></a>\n",
              "        <span id=\"1193\">Loading BokehJS ...</span>\n",
              "    </div>"
            ]
          },
          "metadata": {
            "tags": []
          }
        },
        {
          "output_type": "display_data",
          "data": {
            "application/javascript": [
              "\n",
              "(function(root) {\n",
              "  function now() {\n",
              "    return new Date();\n",
              "  }\n",
              "\n",
              "  var force = true;\n",
              "\n",
              "  if (typeof root._bokeh_onload_callbacks === \"undefined\" || force === true) {\n",
              "    root._bokeh_onload_callbacks = [];\n",
              "    root._bokeh_is_loading = undefined;\n",
              "  }\n",
              "\n",
              "  var JS_MIME_TYPE = 'application/javascript';\n",
              "  var HTML_MIME_TYPE = 'text/html';\n",
              "  var EXEC_MIME_TYPE = 'application/vnd.bokehjs_exec.v0+json';\n",
              "  var CLASS_NAME = 'output_bokeh rendered_html';\n",
              "\n",
              "  /**\n",
              "   * Render data to the DOM node\n",
              "   */\n",
              "  function render(props, node) {\n",
              "    var script = document.createElement(\"script\");\n",
              "    node.appendChild(script);\n",
              "  }\n",
              "\n",
              "  /**\n",
              "   * Handle when an output is cleared or removed\n",
              "   */\n",
              "  function handleClearOutput(event, handle) {\n",
              "    var cell = handle.cell;\n",
              "\n",
              "    var id = cell.output_area._bokeh_element_id;\n",
              "    var server_id = cell.output_area._bokeh_server_id;\n",
              "    // Clean up Bokeh references\n",
              "    if (id != null && id in Bokeh.index) {\n",
              "      Bokeh.index[id].model.document.clear();\n",
              "      delete Bokeh.index[id];\n",
              "    }\n",
              "\n",
              "    if (server_id !== undefined) {\n",
              "      // Clean up Bokeh references\n",
              "      var cmd = \"from bokeh.io.state import curstate; print(curstate().uuid_to_server['\" + server_id + \"'].get_sessions()[0].document.roots[0]._id)\";\n",
              "      cell.notebook.kernel.execute(cmd, {\n",
              "        iopub: {\n",
              "          output: function(msg) {\n",
              "            var id = msg.content.text.trim();\n",
              "            if (id in Bokeh.index) {\n",
              "              Bokeh.index[id].model.document.clear();\n",
              "              delete Bokeh.index[id];\n",
              "            }\n",
              "          }\n",
              "        }\n",
              "      });\n",
              "      // Destroy server and session\n",
              "      var cmd = \"import bokeh.io.notebook as ion; ion.destroy_server('\" + server_id + \"')\";\n",
              "      cell.notebook.kernel.execute(cmd);\n",
              "    }\n",
              "  }\n",
              "\n",
              "  /**\n",
              "   * Handle when a new output is added\n",
              "   */\n",
              "  function handleAddOutput(event, handle) {\n",
              "    var output_area = handle.output_area;\n",
              "    var output = handle.output;\n",
              "\n",
              "    // limit handleAddOutput to display_data with EXEC_MIME_TYPE content only\n",
              "    if ((output.output_type != \"display_data\") || (!output.data.hasOwnProperty(EXEC_MIME_TYPE))) {\n",
              "      return\n",
              "    }\n",
              "\n",
              "    var toinsert = output_area.element.find(\".\" + CLASS_NAME.split(' ')[0]);\n",
              "\n",
              "    if (output.metadata[EXEC_MIME_TYPE][\"id\"] !== undefined) {\n",
              "      toinsert[toinsert.length - 1].firstChild.textContent = output.data[JS_MIME_TYPE];\n",
              "      // store reference to embed id on output_area\n",
              "      output_area._bokeh_element_id = output.metadata[EXEC_MIME_TYPE][\"id\"];\n",
              "    }\n",
              "    if (output.metadata[EXEC_MIME_TYPE][\"server_id\"] !== undefined) {\n",
              "      var bk_div = document.createElement(\"div\");\n",
              "      bk_div.innerHTML = output.data[HTML_MIME_TYPE];\n",
              "      var script_attrs = bk_div.children[0].attributes;\n",
              "      for (var i = 0; i < script_attrs.length; i++) {\n",
              "        toinsert[toinsert.length - 1].firstChild.setAttribute(script_attrs[i].name, script_attrs[i].value);\n",
              "      }\n",
              "      // store reference to server id on output_area\n",
              "      output_area._bokeh_server_id = output.metadata[EXEC_MIME_TYPE][\"server_id\"];\n",
              "    }\n",
              "  }\n",
              "\n",
              "  function register_renderer(events, OutputArea) {\n",
              "\n",
              "    function append_mime(data, metadata, element) {\n",
              "      // create a DOM node to render to\n",
              "      var toinsert = this.create_output_subarea(\n",
              "        metadata,\n",
              "        CLASS_NAME,\n",
              "        EXEC_MIME_TYPE\n",
              "      );\n",
              "      this.keyboard_manager.register_events(toinsert);\n",
              "      // Render to node\n",
              "      var props = {data: data, metadata: metadata[EXEC_MIME_TYPE]};\n",
              "      render(props, toinsert[toinsert.length - 1]);\n",
              "      element.append(toinsert);\n",
              "      return toinsert\n",
              "    }\n",
              "\n",
              "    /* Handle when an output is cleared or removed */\n",
              "    events.on('clear_output.CodeCell', handleClearOutput);\n",
              "    events.on('delete.Cell', handleClearOutput);\n",
              "\n",
              "    /* Handle when a new output is added */\n",
              "    events.on('output_added.OutputArea', handleAddOutput);\n",
              "\n",
              "    /**\n",
              "     * Register the mime type and append_mime function with output_area\n",
              "     */\n",
              "    OutputArea.prototype.register_mime_type(EXEC_MIME_TYPE, append_mime, {\n",
              "      /* Is output safe? */\n",
              "      safe: true,\n",
              "      /* Index of renderer in `output_area.display_order` */\n",
              "      index: 0\n",
              "    });\n",
              "  }\n",
              "\n",
              "  // register the mime type if in Jupyter Notebook environment and previously unregistered\n",
              "  if (root.Jupyter !== undefined) {\n",
              "    var events = require('base/js/events');\n",
              "    var OutputArea = require('notebook/js/outputarea').OutputArea;\n",
              "\n",
              "    if (OutputArea.prototype.mime_types().indexOf(EXEC_MIME_TYPE) == -1) {\n",
              "      register_renderer(events, OutputArea);\n",
              "    }\n",
              "  }\n",
              "\n",
              "  \n",
              "  if (typeof (root._bokeh_timeout) === \"undefined\" || force === true) {\n",
              "    root._bokeh_timeout = Date.now() + 5000;\n",
              "    root._bokeh_failed_load = false;\n",
              "  }\n",
              "\n",
              "  var NB_LOAD_WARNING = {'data': {'text/html':\n",
              "     \"<div style='background-color: #fdd'>\\n\"+\n",
              "     \"<p>\\n\"+\n",
              "     \"BokehJS does not appear to have successfully loaded. If loading BokehJS from CDN, this \\n\"+\n",
              "     \"may be due to a slow or bad network connection. Possible fixes:\\n\"+\n",
              "     \"</p>\\n\"+\n",
              "     \"<ul>\\n\"+\n",
              "     \"<li>re-rerun `output_notebook()` to attempt to load from CDN again, or</li>\\n\"+\n",
              "     \"<li>use INLINE resources instead, as so:</li>\\n\"+\n",
              "     \"</ul>\\n\"+\n",
              "     \"<code>\\n\"+\n",
              "     \"from bokeh.resources import INLINE\\n\"+\n",
              "     \"output_notebook(resources=INLINE)\\n\"+\n",
              "     \"</code>\\n\"+\n",
              "     \"</div>\"}};\n",
              "\n",
              "  function display_loaded() {\n",
              "    var el = document.getElementById(\"1193\");\n",
              "    if (el != null) {\n",
              "      el.textContent = \"BokehJS is loading...\";\n",
              "    }\n",
              "    if (root.Bokeh !== undefined) {\n",
              "      if (el != null) {\n",
              "        el.textContent = \"BokehJS \" + root.Bokeh.version + \" successfully loaded.\";\n",
              "      }\n",
              "    } else if (Date.now() < root._bokeh_timeout) {\n",
              "      setTimeout(display_loaded, 100)\n",
              "    }\n",
              "  }\n",
              "\n",
              "\n",
              "  function run_callbacks() {\n",
              "    try {\n",
              "      root._bokeh_onload_callbacks.forEach(function(callback) {\n",
              "        if (callback != null)\n",
              "          callback();\n",
              "      });\n",
              "    } finally {\n",
              "      delete root._bokeh_onload_callbacks\n",
              "    }\n",
              "    console.debug(\"Bokeh: all callbacks have finished\");\n",
              "  }\n",
              "\n",
              "  function load_libs(css_urls, js_urls, callback) {\n",
              "    if (css_urls == null) css_urls = [];\n",
              "    if (js_urls == null) js_urls = [];\n",
              "\n",
              "    root._bokeh_onload_callbacks.push(callback);\n",
              "    if (root._bokeh_is_loading > 0) {\n",
              "      console.debug(\"Bokeh: BokehJS is being loaded, scheduling callback at\", now());\n",
              "      return null;\n",
              "    }\n",
              "    if (js_urls == null || js_urls.length === 0) {\n",
              "      run_callbacks();\n",
              "      return null;\n",
              "    }\n",
              "    console.debug(\"Bokeh: BokehJS not loaded, scheduling load and callback at\", now());\n",
              "    root._bokeh_is_loading = css_urls.length + js_urls.length;\n",
              "\n",
              "    function on_load() {\n",
              "      root._bokeh_is_loading--;\n",
              "      if (root._bokeh_is_loading === 0) {\n",
              "        console.debug(\"Bokeh: all BokehJS libraries/stylesheets loaded\");\n",
              "        run_callbacks()\n",
              "      }\n",
              "    }\n",
              "\n",
              "    function on_error() {\n",
              "      console.error(\"failed to load \" + url);\n",
              "    }\n",
              "\n",
              "    for (var i = 0; i < css_urls.length; i++) {\n",
              "      var url = css_urls[i];\n",
              "      const element = document.createElement(\"link\");\n",
              "      element.onload = on_load;\n",
              "      element.onerror = on_error;\n",
              "      element.rel = \"stylesheet\";\n",
              "      element.type = \"text/css\";\n",
              "      element.href = url;\n",
              "      console.debug(\"Bokeh: injecting link tag for BokehJS stylesheet: \", url);\n",
              "      document.body.appendChild(element);\n",
              "    }\n",
              "\n",
              "    for (var i = 0; i < js_urls.length; i++) {\n",
              "      var url = js_urls[i];\n",
              "      var element = document.createElement('script');\n",
              "      element.onload = on_load;\n",
              "      element.onerror = on_error;\n",
              "      element.async = false;\n",
              "      element.src = url;\n",
              "      console.debug(\"Bokeh: injecting script tag for BokehJS library: \", url);\n",
              "      document.head.appendChild(element);\n",
              "    }\n",
              "  };var element = document.getElementById(\"1193\");\n",
              "  if (element == null) {\n",
              "    console.error(\"Bokeh: ERROR: autoload.js configured with elementid '1193' but no matching script tag was found. \")\n",
              "    return false;\n",
              "  }\n",
              "\n",
              "  function inject_raw_css(css) {\n",
              "    const element = document.createElement(\"style\");\n",
              "    element.appendChild(document.createTextNode(css));\n",
              "    document.body.appendChild(element);\n",
              "  }\n",
              "\n",
              "  var js_urls = [\"https://cdn.pydata.org/bokeh/release/bokeh-1.2.0.min.js\", \"https://cdn.pydata.org/bokeh/release/bokeh-widgets-1.2.0.min.js\", \"https://cdn.pydata.org/bokeh/release/bokeh-tables-1.2.0.min.js\", \"https://cdn.pydata.org/bokeh/release/bokeh-gl-1.2.0.min.js\"];\n",
              "  var css_urls = [\"https://cdn.pydata.org/bokeh/release/bokeh-1.2.0.min.css\", \"https://cdn.pydata.org/bokeh/release/bokeh-widgets-1.2.0.min.css\", \"https://cdn.pydata.org/bokeh/release/bokeh-tables-1.2.0.min.css\"];\n",
              "\n",
              "  var inline_js = [\n",
              "    function(Bokeh) {\n",
              "      Bokeh.set_log_level(\"info\");\n",
              "    },\n",
              "    \n",
              "    function(Bokeh) {\n",
              "      \n",
              "    },\n",
              "    function(Bokeh) {} // ensure no trailing comma for IE\n",
              "  ];\n",
              "\n",
              "  function run_inline_js() {\n",
              "    \n",
              "    if ((root.Bokeh !== undefined) || (force === true)) {\n",
              "      for (var i = 0; i < inline_js.length; i++) {\n",
              "        inline_js[i].call(root, root.Bokeh);\n",
              "      }if (force === true) {\n",
              "        display_loaded();\n",
              "      }} else if (Date.now() < root._bokeh_timeout) {\n",
              "      setTimeout(run_inline_js, 100);\n",
              "    } else if (!root._bokeh_failed_load) {\n",
              "      console.log(\"Bokeh: BokehJS failed to load within specified timeout.\");\n",
              "      root._bokeh_failed_load = true;\n",
              "    } else if (force !== true) {\n",
              "      var cell = $(document.getElementById(\"1193\")).parents('.cell').data().cell;\n",
              "      cell.output_area.append_execute_result(NB_LOAD_WARNING)\n",
              "    }\n",
              "\n",
              "  }\n",
              "\n",
              "  if (root._bokeh_is_loading === 0) {\n",
              "    console.debug(\"Bokeh: BokehJS loaded, going straight to plotting\");\n",
              "    run_inline_js();\n",
              "  } else {\n",
              "    load_libs(css_urls, js_urls, function() {\n",
              "      console.debug(\"Bokeh: BokehJS plotting callback run at\", now());\n",
              "      run_inline_js();\n",
              "    });\n",
              "  }\n",
              "}(window));"
            ],
            "application/vnd.bokehjs_load.v0+json": "\n(function(root) {\n  function now() {\n    return new Date();\n  }\n\n  var force = true;\n\n  if (typeof root._bokeh_onload_callbacks === \"undefined\" || force === true) {\n    root._bokeh_onload_callbacks = [];\n    root._bokeh_is_loading = undefined;\n  }\n\n  \n\n  \n  if (typeof (root._bokeh_timeout) === \"undefined\" || force === true) {\n    root._bokeh_timeout = Date.now() + 5000;\n    root._bokeh_failed_load = false;\n  }\n\n  var NB_LOAD_WARNING = {'data': {'text/html':\n     \"<div style='background-color: #fdd'>\\n\"+\n     \"<p>\\n\"+\n     \"BokehJS does not appear to have successfully loaded. If loading BokehJS from CDN, this \\n\"+\n     \"may be due to a slow or bad network connection. Possible fixes:\\n\"+\n     \"</p>\\n\"+\n     \"<ul>\\n\"+\n     \"<li>re-rerun `output_notebook()` to attempt to load from CDN again, or</li>\\n\"+\n     \"<li>use INLINE resources instead, as so:</li>\\n\"+\n     \"</ul>\\n\"+\n     \"<code>\\n\"+\n     \"from bokeh.resources import INLINE\\n\"+\n     \"output_notebook(resources=INLINE)\\n\"+\n     \"</code>\\n\"+\n     \"</div>\"}};\n\n  function display_loaded() {\n    var el = document.getElementById(\"1193\");\n    if (el != null) {\n      el.textContent = \"BokehJS is loading...\";\n    }\n    if (root.Bokeh !== undefined) {\n      if (el != null) {\n        el.textContent = \"BokehJS \" + root.Bokeh.version + \" successfully loaded.\";\n      }\n    } else if (Date.now() < root._bokeh_timeout) {\n      setTimeout(display_loaded, 100)\n    }\n  }\n\n\n  function run_callbacks() {\n    try {\n      root._bokeh_onload_callbacks.forEach(function(callback) {\n        if (callback != null)\n          callback();\n      });\n    } finally {\n      delete root._bokeh_onload_callbacks\n    }\n    console.debug(\"Bokeh: all callbacks have finished\");\n  }\n\n  function load_libs(css_urls, js_urls, callback) {\n    if (css_urls == null) css_urls = [];\n    if (js_urls == null) js_urls = [];\n\n    root._bokeh_onload_callbacks.push(callback);\n    if (root._bokeh_is_loading > 0) {\n      console.debug(\"Bokeh: BokehJS is being loaded, scheduling callback at\", now());\n      return null;\n    }\n    if (js_urls == null || js_urls.length === 0) {\n      run_callbacks();\n      return null;\n    }\n    console.debug(\"Bokeh: BokehJS not loaded, scheduling load and callback at\", now());\n    root._bokeh_is_loading = css_urls.length + js_urls.length;\n\n    function on_load() {\n      root._bokeh_is_loading--;\n      if (root._bokeh_is_loading === 0) {\n        console.debug(\"Bokeh: all BokehJS libraries/stylesheets loaded\");\n        run_callbacks()\n      }\n    }\n\n    function on_error() {\n      console.error(\"failed to load \" + url);\n    }\n\n    for (var i = 0; i < css_urls.length; i++) {\n      var url = css_urls[i];\n      const element = document.createElement(\"link\");\n      element.onload = on_load;\n      element.onerror = on_error;\n      element.rel = \"stylesheet\";\n      element.type = \"text/css\";\n      element.href = url;\n      console.debug(\"Bokeh: injecting link tag for BokehJS stylesheet: \", url);\n      document.body.appendChild(element);\n    }\n\n    for (var i = 0; i < js_urls.length; i++) {\n      var url = js_urls[i];\n      var element = document.createElement('script');\n      element.onload = on_load;\n      element.onerror = on_error;\n      element.async = false;\n      element.src = url;\n      console.debug(\"Bokeh: injecting script tag for BokehJS library: \", url);\n      document.head.appendChild(element);\n    }\n  };var element = document.getElementById(\"1193\");\n  if (element == null) {\n    console.error(\"Bokeh: ERROR: autoload.js configured with elementid '1193' but no matching script tag was found. \")\n    return false;\n  }\n\n  function inject_raw_css(css) {\n    const element = document.createElement(\"style\");\n    element.appendChild(document.createTextNode(css));\n    document.body.appendChild(element);\n  }\n\n  var js_urls = [\"https://cdn.pydata.org/bokeh/release/bokeh-1.2.0.min.js\", \"https://cdn.pydata.org/bokeh/release/bokeh-widgets-1.2.0.min.js\", \"https://cdn.pydata.org/bokeh/release/bokeh-tables-1.2.0.min.js\", \"https://cdn.pydata.org/bokeh/release/bokeh-gl-1.2.0.min.js\"];\n  var css_urls = [\"https://cdn.pydata.org/bokeh/release/bokeh-1.2.0.min.css\", \"https://cdn.pydata.org/bokeh/release/bokeh-widgets-1.2.0.min.css\", \"https://cdn.pydata.org/bokeh/release/bokeh-tables-1.2.0.min.css\"];\n\n  var inline_js = [\n    function(Bokeh) {\n      Bokeh.set_log_level(\"info\");\n    },\n    \n    function(Bokeh) {\n      \n    },\n    function(Bokeh) {} // ensure no trailing comma for IE\n  ];\n\n  function run_inline_js() {\n    \n    if ((root.Bokeh !== undefined) || (force === true)) {\n      for (var i = 0; i < inline_js.length; i++) {\n        inline_js[i].call(root, root.Bokeh);\n      }if (force === true) {\n        display_loaded();\n      }} else if (Date.now() < root._bokeh_timeout) {\n      setTimeout(run_inline_js, 100);\n    } else if (!root._bokeh_failed_load) {\n      console.log(\"Bokeh: BokehJS failed to load within specified timeout.\");\n      root._bokeh_failed_load = true;\n    } else if (force !== true) {\n      var cell = $(document.getElementById(\"1193\")).parents('.cell').data().cell;\n      cell.output_area.append_execute_result(NB_LOAD_WARNING)\n    }\n\n  }\n\n  if (root._bokeh_is_loading === 0) {\n    console.debug(\"Bokeh: BokehJS loaded, going straight to plotting\");\n    run_inline_js();\n  } else {\n    load_libs(css_urls, js_urls, function() {\n      console.debug(\"Bokeh: BokehJS plotting callback run at\", now());\n      run_inline_js();\n    });\n  }\n}(window));"
          },
          "metadata": {
            "tags": []
          }
        },
        {
          "output_type": "display_data",
          "data": {
            "text/html": [
              "\n",
              "\n",
              "\n",
              "\n",
              "\n",
              "\n",
              "  <div class=\"bk-root\" id=\"985b6117-4141-4f6d-93c8-db09b4f3c45b\" data-root-id=\"1230\"></div>\n"
            ]
          },
          "metadata": {
            "tags": []
          }
        },
        {
          "output_type": "display_data",
          "data": {
            "application/javascript": [
              "(function(root) {\n",
              "  function embed_document(root) {\n",
              "    \n",
              "  var docs_json = {\"0c2d9ff3-06de-4041-85e7-b1afd52ac433\":{\"roots\":{\"references\":[{\"attributes\":{\"children\":[{\"id\":\"1194\",\"subtype\":\"Figure\",\"type\":\"Plot\"}]},\"id\":\"1230\",\"type\":\"Column\"},{\"attributes\":{\"axis_label\":\"Amount\",\"formatter\":{\"id\":\"1256\",\"type\":\"BasicTickFormatter\"},\"ticker\":{\"id\":\"1209\",\"type\":\"BasicTicker\"}},\"id\":\"1208\",\"type\":\"LinearAxis\"},{\"attributes\":{},\"id\":\"1209\",\"type\":\"BasicTicker\"},{\"attributes\":{\"dimension\":1,\"ticker\":{\"id\":\"1209\",\"type\":\"BasicTicker\"}},\"id\":\"1212\",\"type\":\"Grid\"},{\"attributes\":{},\"id\":\"1258\",\"type\":\"DatetimeTickFormatter\"},{\"attributes\":{\"source\":{\"id\":\"1224\",\"type\":\"ColumnDataSource\"}},\"id\":\"1229\",\"type\":\"CDSView\"},{\"attributes\":{\"active_drag\":\"auto\",\"active_inspect\":\"auto\",\"active_multi\":null,\"active_scroll\":\"auto\",\"active_tap\":\"auto\",\"tools\":[{\"id\":\"1213\",\"type\":\"PanTool\"}]},\"id\":\"1214\",\"type\":\"Toolbar\"},{\"attributes\":{\"data_source\":{\"id\":\"1224\",\"type\":\"ColumnDataSource\"},\"glyph\":{\"id\":\"1226\",\"type\":\"Line\"},\"hover_glyph\":null,\"muted_glyph\":null,\"name\":\"redemptions\",\"nonselection_glyph\":{\"id\":\"1227\",\"type\":\"Line\"},\"selection_glyph\":null,\"view\":{\"id\":\"1229\",\"type\":\"CDSView\"}},\"id\":\"1228\",\"type\":\"GlyphRenderer\"},{\"attributes\":{\"line_color\":\"red\",\"x\":{\"field\":\"txn_year_month\"},\"y\":{\"expr\":{\"id\":\"1217\",\"type\":\"Stack\"}}},\"id\":\"1226\",\"type\":\"Line\"},{\"attributes\":{\"formatter\":{\"id\":\"1258\",\"type\":\"DatetimeTickFormatter\"},\"ticker\":{\"id\":\"1204\",\"type\":\"DatetimeTicker\"}},\"id\":\"1203\",\"type\":\"DatetimeAxis\"},{\"attributes\":{\"text\":\"\"},\"id\":\"1253\",\"type\":\"Title\"},{\"attributes\":{\"line_alpha\":0.1,\"line_color\":\"#1f77b4\",\"x\":{\"field\":\"txn_year_month\"},\"y\":{\"expr\":{\"id\":\"1217\",\"type\":\"Stack\"}}},\"id\":\"1227\",\"type\":\"Line\"},{\"attributes\":{},\"id\":\"1274\",\"type\":\"YearsTicker\"},{\"attributes\":{},\"id\":\"1256\",\"type\":\"BasicTickFormatter\"},{\"attributes\":{\"fields\":[\"sales\"]},\"id\":\"1216\",\"type\":\"Stack\"},{\"attributes\":{\"months\":[0,2,4,6,8,10]},\"id\":\"1271\",\"type\":\"MonthsTicker\"},{\"attributes\":{\"callback\":null,\"data\":{\"index\":[0,1,2,3,4,5,6,7,8,9,10,11,12,13,14],\"redemptions\":{\"__ndarray__\":\"Da5HAe+cXcHD9SjcfcJewToK1yMeVWDBth6Fu85CYcFoZmaWpPdgwWFmZnb6dGDBjutR+DV5X8EiheuRflJhwcEehUt/sV7B16NwvWrUXMHTo3B9GgBfwcfMzMyQz1/Bh+tRePuCYMF5FK63tIxgwW1mZrYiD2HB\",\"dtype\":\"float64\",\"shape\":[15]},\"sales\":{\"__ndarray__\":\"IK5Hb5+VlkHOHoXVXMOTQcijcAlgOZRBamZmBnlJkkG+R+HWoXySQfvWo+pRrZRBdj0KbTHllUE+4Xp+eGKVQWZmZgwjjJZBl5mZ4VaNlUH/1qMGnPuRQeVRuLgO/ZpBcOtRDtarmkG3R+G63O6SQQkpXCU+lpNB\",\"dtype\":\"float64\",\"shape\":[15]},\"txn_year_month\":[1420070400000.0,1422748800000.0,1425168000000.0,1427846400000.0,1430438400000.0,1433116800000.0,1435708800000.0,1438387200000.0,1441065600000.0,1443657600000.0,1446336000000.0,1448928000000.0,1451606400000.0,1454284800000.0,1456790400000.0]},\"selected\":{\"id\":\"1259\",\"type\":\"Selection\"},\"selection_policy\":{\"id\":\"1260\",\"type\":\"UnionRenderers\"}},\"id\":\"1218\",\"type\":\"ColumnDataSource\"},{\"attributes\":{\"months\":[0,4,8]},\"id\":\"1272\",\"type\":\"MonthsTicker\"},{\"attributes\":{\"fields\":[\"sales\",\"redemptions\"]},\"id\":\"1217\",\"type\":\"Stack\"},{\"attributes\":{\"months\":[0,6]},\"id\":\"1273\",\"type\":\"MonthsTicker\"},{\"attributes\":{\"callback\":null},\"id\":\"1197\",\"type\":\"DataRange1d\"},{\"attributes\":{\"callback\":null,\"data\":{\"index\":[0,1,2,3,4,5,6,7,8,9,10,11,12,13,14],\"redemptions\":{\"__ndarray__\":\"Da5HAe+cXcHD9SjcfcJewToK1yMeVWDBth6Fu85CYcFoZmaWpPdgwWFmZnb6dGDBjutR+DV5X8EiheuRflJhwcEehUt/sV7B16NwvWrUXMHTo3B9GgBfwcfMzMyQz1/Bh+tRePuCYMF5FK63tIxgwW1mZrYiD2HB\",\"dtype\":\"float64\",\"shape\":[15]},\"sales\":{\"__ndarray__\":\"IK5Hb5+VlkHOHoXVXMOTQcijcAlgOZRBamZmBnlJkkG+R+HWoXySQfvWo+pRrZRBdj0KbTHllUE+4Xp+eGKVQWZmZgwjjJZBl5mZ4VaNlUH/1qMGnPuRQeVRuLgO/ZpBcOtRDtarmkG3R+G63O6SQQkpXCU+lpNB\",\"dtype\":\"float64\",\"shape\":[15]},\"txn_year_month\":[1420070400000.0,1422748800000.0,1425168000000.0,1427846400000.0,1430438400000.0,1433116800000.0,1435708800000.0,1438387200000.0,1441065600000.0,1443657600000.0,1446336000000.0,1448928000000.0,1451606400000.0,1454284800000.0,1456790400000.0]},\"selected\":{\"id\":\"1261\",\"type\":\"Selection\"},\"selection_policy\":{\"id\":\"1262\",\"type\":\"UnionRenderers\"}},\"id\":\"1224\",\"type\":\"ColumnDataSource\"},{\"attributes\":{\"days\":[1,15]},\"id\":\"1269\",\"type\":\"DaysTicker\"},{\"attributes\":{},\"id\":\"1201\",\"type\":\"LinearScale\"},{\"attributes\":{\"background_fill_color\":{\"value\":\"#efefef\"},\"below\":[{\"id\":\"1203\",\"type\":\"DatetimeAxis\"}],\"center\":[{\"id\":\"1207\",\"type\":\"Grid\"},{\"id\":\"1212\",\"type\":\"Grid\"}],\"left\":[{\"id\":\"1208\",\"type\":\"LinearAxis\"}],\"plot_height\":300,\"plot_width\":800,\"renderers\":[{\"id\":\"1222\",\"type\":\"GlyphRenderer\"},{\"id\":\"1228\",\"type\":\"GlyphRenderer\"}],\"title\":{\"id\":\"1253\",\"type\":\"Title\"},\"toolbar\":{\"id\":\"1214\",\"type\":\"Toolbar\"},\"toolbar_location\":null,\"x_range\":{\"id\":\"1195\",\"type\":\"DataRange1d\"},\"x_scale\":{\"id\":\"1199\",\"type\":\"LinearScale\"},\"y_range\":{\"id\":\"1197\",\"type\":\"DataRange1d\"},\"y_scale\":{\"id\":\"1201\",\"type\":\"LinearScale\"}},\"id\":\"1194\",\"subtype\":\"Figure\",\"type\":\"Plot\"},{\"attributes\":{\"callback\":null},\"id\":\"1195\",\"type\":\"DataRange1d\"},{\"attributes\":{\"months\":[0,1,2,3,4,5,6,7,8,9,10,11]},\"id\":\"1270\",\"type\":\"MonthsTicker\"},{\"attributes\":{\"source\":{\"id\":\"1218\",\"type\":\"ColumnDataSource\"}},\"id\":\"1223\",\"type\":\"CDSView\"},{\"attributes\":{},\"id\":\"1261\",\"type\":\"Selection\"},{\"attributes\":{\"days\":[1,4,7,10,13,16,19,22,25,28]},\"id\":\"1267\",\"type\":\"DaysTicker\"},{\"attributes\":{\"line_alpha\":0.1,\"line_color\":\"#1f77b4\",\"x\":{\"field\":\"txn_year_month\"},\"y\":{\"expr\":{\"id\":\"1216\",\"type\":\"Stack\"}}},\"id\":\"1221\",\"type\":\"Line\"},{\"attributes\":{\"days\":[1,8,15,22]},\"id\":\"1268\",\"type\":\"DaysTicker\"},{\"attributes\":{},\"id\":\"1259\",\"type\":\"Selection\"},{\"attributes\":{},\"id\":\"1199\",\"type\":\"LinearScale\"},{\"attributes\":{\"line_color\":\"blue\",\"x\":{\"field\":\"txn_year_month\"},\"y\":{\"expr\":{\"id\":\"1216\",\"type\":\"Stack\"}}},\"id\":\"1220\",\"type\":\"Line\"},{\"attributes\":{\"days\":[1,2,3,4,5,6,7,8,9,10,11,12,13,14,15,16,17,18,19,20,21,22,23,24,25,26,27,28,29,30,31]},\"id\":\"1266\",\"type\":\"DaysTicker\"},{\"attributes\":{},\"id\":\"1262\",\"type\":\"UnionRenderers\"},{\"attributes\":{\"dimensions\":\"width\"},\"id\":\"1213\",\"type\":\"PanTool\"},{\"attributes\":{\"base\":24,\"mantissas\":[1,2,4,6,8,12],\"max_interval\":43200000.0,\"min_interval\":3600000.0,\"num_minor_ticks\":0},\"id\":\"1265\",\"type\":\"AdaptiveTicker\"},{\"attributes\":{\"data_source\":{\"id\":\"1218\",\"type\":\"ColumnDataSource\"},\"glyph\":{\"id\":\"1220\",\"type\":\"Line\"},\"hover_glyph\":null,\"muted_glyph\":null,\"name\":\"sales\",\"nonselection_glyph\":{\"id\":\"1221\",\"type\":\"Line\"},\"selection_glyph\":null,\"view\":{\"id\":\"1223\",\"type\":\"CDSView\"}},\"id\":\"1222\",\"type\":\"GlyphRenderer\"},{\"attributes\":{\"num_minor_ticks\":5,\"tickers\":[{\"id\":\"1263\",\"type\":\"AdaptiveTicker\"},{\"id\":\"1264\",\"type\":\"AdaptiveTicker\"},{\"id\":\"1265\",\"type\":\"AdaptiveTicker\"},{\"id\":\"1266\",\"type\":\"DaysTicker\"},{\"id\":\"1267\",\"type\":\"DaysTicker\"},{\"id\":\"1268\",\"type\":\"DaysTicker\"},{\"id\":\"1269\",\"type\":\"DaysTicker\"},{\"id\":\"1270\",\"type\":\"MonthsTicker\"},{\"id\":\"1271\",\"type\":\"MonthsTicker\"},{\"id\":\"1272\",\"type\":\"MonthsTicker\"},{\"id\":\"1273\",\"type\":\"MonthsTicker\"},{\"id\":\"1274\",\"type\":\"YearsTicker\"}]},\"id\":\"1204\",\"type\":\"DatetimeTicker\"},{\"attributes\":{\"base\":60,\"mantissas\":[1,2,5,10,15,20,30],\"max_interval\":1800000.0,\"min_interval\":1000.0,\"num_minor_ticks\":0},\"id\":\"1264\",\"type\":\"AdaptiveTicker\"},{\"attributes\":{},\"id\":\"1260\",\"type\":\"UnionRenderers\"},{\"attributes\":{\"ticker\":{\"id\":\"1204\",\"type\":\"DatetimeTicker\"}},\"id\":\"1207\",\"type\":\"Grid\"},{\"attributes\":{\"mantissas\":[1,2,5],\"max_interval\":500.0,\"num_minor_ticks\":0},\"id\":\"1263\",\"type\":\"AdaptiveTicker\"}],\"root_ids\":[\"1230\"]},\"title\":\"Bokeh Application\",\"version\":\"1.2.0\"}};\n",
              "  var render_items = [{\"docid\":\"0c2d9ff3-06de-4041-85e7-b1afd52ac433\",\"roots\":{\"1230\":\"985b6117-4141-4f6d-93c8-db09b4f3c45b\"}}];\n",
              "  root.Bokeh.embed.embed_items_notebook(docs_json, render_items);\n",
              "\n",
              "  }\n",
              "  if (root.Bokeh !== undefined) {\n",
              "    embed_document(root);\n",
              "  } else {\n",
              "    var attempts = 0;\n",
              "    var timer = setInterval(function(root) {\n",
              "      if (root.Bokeh !== undefined) {\n",
              "        embed_document(root);\n",
              "        clearInterval(timer);\n",
              "      }\n",
              "      attempts++;\n",
              "      if (attempts > 100) {\n",
              "        console.log(\"Bokeh: ERROR: Unable to run BokehJS code because BokehJS library is missing\");\n",
              "        clearInterval(timer);\n",
              "      }\n",
              "    }, 10, root)\n",
              "  }\n",
              "})(window);"
            ],
            "application/vnd.bokehjs_exec.v0+json": ""
          },
          "metadata": {
            "tags": [],
            "application/vnd.bokehjs_exec.v0+json": {
              "id": "1230"
            }
          }
        }
      ]
    }
  ]
}